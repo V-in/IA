{
 "cells": [
  {
   "cell_type": "markdown",
   "metadata": {},
   "source": [
    "# Clusterizacao\n",
    "\n",
    "[**Premier League Data**](https://www.kaggle.com/thesiff/premierleague1819)\n",
    "\n",
    " Execute  os  algoritmos de clusterizacao citados a seguir e compare os resultados\n",
    " \n",
    "- [ ] Execute os algoritmos de agrupamento K-means e Hierarquico com os seguintes valores de K:2, 5, 10 e 100. Compare os agrupamento resultantes dos 2 algoritmos\n",
    "  - [ ] Escolha  um  numero  fixo  de  K  e  altere  o  parametro  do  K-Means  referente  ao  numeromaximo  de  iteracoes:  1,  10  e  100  e  o  parametro  de  Linkage  do  Hierarquico,  quaisdiferencas puderam ser observadas?\n",
    "  - [ ] Faca uma comparacao entre os 2 algoritmos, qual voce acha que teve o melhor desempenho e por que? \n",
    "\n",
    "\n",
    "**Bonus**\n",
    "\n",
    "Normalizar  os  dados  e  executar  novamente  os  algoritmos  para  analisar  os  novos resultados gerados. Em seguida, fazer os graficos dos agrupamentos dos dados brutos vsdados normalizados, e um boxplot para mostrar a dispersao destes dados"
   ]
  }
 ],
 "metadata": {
  "kernelspec": {
   "display_name": "Python 3",
   "language": "python",
   "name": "python3"
  },
  "language_info": {
   "codemirror_mode": {
    "name": "ipython",
    "version": 3
   },
   "file_extension": ".py",
   "mimetype": "text/x-python",
   "name": "python",
   "nbconvert_exporter": "python",
   "pygments_lexer": "ipython3",
   "version": "3.6.8"
  }
 },
 "nbformat": 4,
 "nbformat_minor": 2
}
