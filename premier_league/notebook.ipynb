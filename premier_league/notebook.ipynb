{
 "cells": [
  {
   "cell_type": "markdown",
   "metadata": {},
   "source": [
    "# Clusterizacao\n",
    "\n",
    "[**Premier League Data**](https://www.kaggle.com/thesiff/premierleague1819)"
   ]
  },
  {
   "cell_type": "markdown",
   "metadata": {},
   "source": [
    "## Carregando bibliotecas"
   ]
  },
  {
   "cell_type": "code",
   "execution_count": 467,
   "metadata": {},
   "outputs": [],
   "source": [
    "import pandas as pd\n",
    "from sklearn.tree import DecisionTreeClassifier, export_graphviz\n",
    "from sklearn.cluster import KMeans\n",
    "from sklearn.ensemble import RandomForestClassifier\n",
    "from sklearn.linear_model import Perceptron\n",
    "from subprocess import call\n",
    "from sklearn.cluster import AgglomerativeClustering\n",
    "from IPython.display import Image\n",
    "from sklearn.tree import export_graphviz\n",
    "from sklearn.neighbors import KNeighborsClassifier\n",
    "from sklearn.svm import SVC\n",
    "import numpy as np\n",
    "import sklearn as sk \n",
    "from numpy import random\n",
    "import seaborn as sns\n",
    "from matplotlib import pyplot as plt\n",
    "from IPython.display import Image\n",
    "import os\n",
    "pd.options.display.max_rows = 2000\n",
    "%matplotlib inline"
   ]
  },
  {
   "cell_type": "code",
   "execution_count": 468,
   "metadata": {},
   "outputs": [
    {
     "data": {
      "text/html": [
       "<div>\n",
       "<style scoped>\n",
       "    .dataframe tbody tr th:only-of-type {\n",
       "        vertical-align: middle;\n",
       "    }\n",
       "\n",
       "    .dataframe tbody tr th {\n",
       "        vertical-align: top;\n",
       "    }\n",
       "\n",
       "    .dataframe thead th {\n",
       "        text-align: right;\n",
       "    }\n",
       "</style>\n",
       "<table border=\"1\" class=\"dataframe\">\n",
       "  <thead>\n",
       "    <tr style=\"text-align: right;\">\n",
       "      <th></th>\n",
       "      <th>Team</th>\n",
       "      <th>category</th>\n",
       "      <th>general_league_position</th>\n",
       "      <th>finance _live_games_televised</th>\n",
       "      <th>finance _tv_revenue</th>\n",
       "      <th>general_matches_played</th>\n",
       "      <th>general_won</th>\n",
       "      <th>general_draw</th>\n",
       "      <th>general_lost</th>\n",
       "      <th>attack_scored</th>\n",
       "      <th>...</th>\n",
       "      <th>end_2018</th>\n",
       "      <th>end_2017</th>\n",
       "      <th>end_2016</th>\n",
       "      <th>end_2015</th>\n",
       "      <th>end_2014</th>\n",
       "      <th>end_2013</th>\n",
       "      <th>end_2012</th>\n",
       "      <th>end_2011</th>\n",
       "      <th>end_2010</th>\n",
       "      <th>Total</th>\n",
       "    </tr>\n",
       "  </thead>\n",
       "  <tbody>\n",
       "    <tr>\n",
       "      <td>0</td>\n",
       "      <td>Manchester City</td>\n",
       "      <td>Champions League</td>\n",
       "      <td>1</td>\n",
       "      <td>26</td>\n",
       "      <td>150986355</td>\n",
       "      <td>38</td>\n",
       "      <td>32</td>\n",
       "      <td>2</td>\n",
       "      <td>4</td>\n",
       "      <td>95</td>\n",
       "      <td>...</td>\n",
       "      <td>-226.15</td>\n",
       "      <td>-178.15</td>\n",
       "      <td>-140.86</td>\n",
       "      <td>-57.68</td>\n",
       "      <td>-104.7</td>\n",
       "      <td>-17.65</td>\n",
       "      <td>-59.85</td>\n",
       "      <td>-146.46</td>\n",
       "      <td>-116.35</td>\n",
       "      <td>-1070.83</td>\n",
       "    </tr>\n",
       "  </tbody>\n",
       "</table>\n",
       "<p>1 rows × 55 columns</p>\n",
       "</div>"
      ],
      "text/plain": [
       "              Team          category  general_league_position  \\\n",
       "0  Manchester City  Champions League                        1   \n",
       "\n",
       "   finance _live_games_televised  finance _tv_revenue  general_matches_played  \\\n",
       "0                             26            150986355                      38   \n",
       "\n",
       "   general_won  general_draw  general_lost  attack_scored  ...  end_2018  \\\n",
       "0           32             2             4             95  ...   -226.15   \n",
       "\n",
       "   end_2017  end_2016  end_2015  end_2014  end_2013  end_2012  end_2011  \\\n",
       "0   -178.15   -140.86    -57.68    -104.7    -17.65    -59.85   -146.46   \n",
       "\n",
       "  end_2010    Total  \n",
       "0  -116.35 -1070.83  \n",
       "\n",
       "[1 rows x 55 columns]"
      ]
     },
     "execution_count": 468,
     "metadata": {},
     "output_type": "execute_result"
    }
   ],
   "source": [
    "df_epl = pd.read_csv(os.path.join(os.path.abspath(''), \"data/epl_1819.csv\"))\n",
    "df_transfer = pd.read_csv(os.path.join(os.path.abspath(''), \"data/transfer.csv\"))\n",
    "\n",
    "df = df_epl.join(df_transfer)\n",
    "\n",
    "# Drop de team por ficar duplicado apos o join\n",
    "df.drop(columns=\"team\", inplace=True)\n",
    "\n",
    "df.head(1)"
   ]
  },
  {
   "cell_type": "markdown",
   "metadata": {},
   "source": [
    "# Identificando dados faltando"
   ]
  },
  {
   "cell_type": "code",
   "execution_count": 469,
   "metadata": {},
   "outputs": [
    {
     "data": {
      "text/plain": [
       "Series([], dtype: bool)"
      ]
     },
     "execution_count": 469,
     "metadata": {},
     "output_type": "execute_result"
    }
   ],
   "source": [
    "missing = df.isna().mean().gt(0)\n",
    "missing[missing == True]"
   ]
  },
  {
   "cell_type": "markdown",
   "metadata": {},
   "source": [
    "Nenhuma coluna possui dados faltando"
   ]
  },
  {
   "cell_type": "markdown",
   "metadata": {},
   "source": [
    "# Identificando atributos categoricos"
   ]
  },
  {
   "cell_type": "code",
   "execution_count": 470,
   "metadata": {},
   "outputs": [
    {
     "data": {
      "text/html": [
       "<div>\n",
       "<style scoped>\n",
       "    .dataframe tbody tr th:only-of-type {\n",
       "        vertical-align: middle;\n",
       "    }\n",
       "\n",
       "    .dataframe tbody tr th {\n",
       "        vertical-align: top;\n",
       "    }\n",
       "\n",
       "    .dataframe thead th {\n",
       "        text-align: right;\n",
       "    }\n",
       "</style>\n",
       "<table border=\"1\" class=\"dataframe\">\n",
       "  <thead>\n",
       "    <tr style=\"text-align: right;\">\n",
       "      <th></th>\n",
       "      <th>Team</th>\n",
       "      <th>category</th>\n",
       "      <th>attack_passes</th>\n",
       "      <th>attack_passes_long</th>\n",
       "      <th>attack_passes_back</th>\n",
       "      <th>defence_clearances</th>\n",
       "    </tr>\n",
       "  </thead>\n",
       "  <tbody>\n",
       "    <tr>\n",
       "      <td>0</td>\n",
       "      <td>Manchester City</td>\n",
       "      <td>Champions League</td>\n",
       "      <td>26,581</td>\n",
       "      <td>1,814</td>\n",
       "      <td>4,240</td>\n",
       "      <td>543</td>\n",
       "    </tr>\n",
       "    <tr>\n",
       "      <td>1</td>\n",
       "      <td>Liverpool</td>\n",
       "      <td>Champions League</td>\n",
       "      <td>23,638</td>\n",
       "      <td>2,250</td>\n",
       "      <td>3,416</td>\n",
       "      <td>639</td>\n",
       "    </tr>\n",
       "    <tr>\n",
       "      <td>2</td>\n",
       "      <td>Chelsea</td>\n",
       "      <td>Champions League Qualification</td>\n",
       "      <td>25,070</td>\n",
       "      <td>1,774</td>\n",
       "      <td>3,874</td>\n",
       "      <td>593</td>\n",
       "    </tr>\n",
       "  </tbody>\n",
       "</table>\n",
       "</div>"
      ],
      "text/plain": [
       "              Team                        category attack_passes  \\\n",
       "0  Manchester City                Champions League        26,581   \n",
       "1        Liverpool                Champions League        23,638   \n",
       "2          Chelsea  Champions League Qualification        25,070   \n",
       "\n",
       "  attack_passes_long attack_passes_back defence_clearances  \n",
       "0              1,814              4,240                543  \n",
       "1              2,250              3,416                639  \n",
       "2              1,774              3,874                593  "
      ]
     },
     "execution_count": 470,
     "metadata": {},
     "output_type": "execute_result"
    }
   ],
   "source": [
    "obj_attrs = df.select_dtypes(\"object\").columns.values\n",
    "df[obj_attrs].head(3)"
   ]
  },
  {
   "cell_type": "markdown",
   "metadata": {},
   "source": [
    "Os atributos `attack_passes`, `attack_passes_long`, `attack_passes_back` e `defence_clearances` são numericos mas foram entendidos como object porque utilizam de virgula para separador de milhar. \n",
    "\n",
    "Podemos entao converter esses atributos para formato numerico"
   ]
  },
  {
   "cell_type": "code",
   "execution_count": 471,
   "metadata": {},
   "outputs": [],
   "source": [
    "transform_attrs = [attr for attr in obj_attrs if attr != \"category\" and attr != \"Team\"]\n",
    "df[transform_attrs] = df[transform_attrs].apply(lambda x: x.str.replace(\",\", \"\").astype(int), axis=0)"
   ]
  },
  {
   "cell_type": "code",
   "execution_count": 472,
   "metadata": {},
   "outputs": [
    {
     "data": {
      "text/html": [
       "<div>\n",
       "<style scoped>\n",
       "    .dataframe tbody tr th:only-of-type {\n",
       "        vertical-align: middle;\n",
       "    }\n",
       "\n",
       "    .dataframe tbody tr th {\n",
       "        vertical-align: top;\n",
       "    }\n",
       "\n",
       "    .dataframe thead th {\n",
       "        text-align: right;\n",
       "    }\n",
       "</style>\n",
       "<table border=\"1\" class=\"dataframe\">\n",
       "  <thead>\n",
       "    <tr style=\"text-align: right;\">\n",
       "      <th></th>\n",
       "      <th>attack_passes</th>\n",
       "      <th>attack_passes_long</th>\n",
       "      <th>attack_passes_back</th>\n",
       "      <th>defence_clearances</th>\n",
       "    </tr>\n",
       "  </thead>\n",
       "  <tbody>\n",
       "    <tr>\n",
       "      <td>0</td>\n",
       "      <td>26581</td>\n",
       "      <td>1814</td>\n",
       "      <td>4240</td>\n",
       "      <td>543</td>\n",
       "    </tr>\n",
       "    <tr>\n",
       "      <td>1</td>\n",
       "      <td>23638</td>\n",
       "      <td>2250</td>\n",
       "      <td>3416</td>\n",
       "      <td>639</td>\n",
       "    </tr>\n",
       "  </tbody>\n",
       "</table>\n",
       "</div>"
      ],
      "text/plain": [
       "   attack_passes  attack_passes_long  attack_passes_back  defence_clearances\n",
       "0          26581                1814                4240                 543\n",
       "1          23638                2250                3416                 639"
      ]
     },
     "execution_count": 472,
     "metadata": {},
     "output_type": "execute_result"
    }
   ],
   "source": [
    "df[transform_attrs].head(2)"
   ]
  },
  {
   "cell_type": "markdown",
   "metadata": {},
   "source": [
    "O atributos `category` é categorico cardinal e deve ser transformado atravez de algo como one-hot-encoding.\n",
    "\n",
    "O atributo `Team` pode ser usado como indice."
   ]
  },
  {
   "cell_type": "code",
   "execution_count": 473,
   "metadata": {},
   "outputs": [
    {
     "data": {
      "text/html": [
       "<div>\n",
       "<style scoped>\n",
       "    .dataframe tbody tr th:only-of-type {\n",
       "        vertical-align: middle;\n",
       "    }\n",
       "\n",
       "    .dataframe tbody tr th {\n",
       "        vertical-align: top;\n",
       "    }\n",
       "\n",
       "    .dataframe thead th {\n",
       "        text-align: right;\n",
       "    }\n",
       "</style>\n",
       "<table border=\"1\" class=\"dataframe\">\n",
       "  <thead>\n",
       "    <tr style=\"text-align: right;\">\n",
       "      <th></th>\n",
       "      <th>general_league_position</th>\n",
       "      <th>finance _live_games_televised</th>\n",
       "      <th>finance _tv_revenue</th>\n",
       "      <th>general_matches_played</th>\n",
       "      <th>general_won</th>\n",
       "      <th>general_draw</th>\n",
       "      <th>general_lost</th>\n",
       "      <th>attack_scored</th>\n",
       "      <th>defence_goals_conceeded</th>\n",
       "      <th>general_goal_difference</th>\n",
       "      <th>...</th>\n",
       "      <th>end_2012</th>\n",
       "      <th>end_2011</th>\n",
       "      <th>end_2010</th>\n",
       "      <th>Total</th>\n",
       "      <th>category_Champions League</th>\n",
       "      <th>category_Champions League Qualification</th>\n",
       "      <th>category_Europa League</th>\n",
       "      <th>category_Europa League Qualification</th>\n",
       "      <th>category_No UEFA Competitions</th>\n",
       "      <th>category_Relegated</th>\n",
       "    </tr>\n",
       "    <tr>\n",
       "      <th>Team</th>\n",
       "      <th></th>\n",
       "      <th></th>\n",
       "      <th></th>\n",
       "      <th></th>\n",
       "      <th></th>\n",
       "      <th></th>\n",
       "      <th></th>\n",
       "      <th></th>\n",
       "      <th></th>\n",
       "      <th></th>\n",
       "      <th></th>\n",
       "      <th></th>\n",
       "      <th></th>\n",
       "      <th></th>\n",
       "      <th></th>\n",
       "      <th></th>\n",
       "      <th></th>\n",
       "      <th></th>\n",
       "      <th></th>\n",
       "      <th></th>\n",
       "      <th></th>\n",
       "    </tr>\n",
       "  </thead>\n",
       "  <tbody>\n",
       "    <tr>\n",
       "      <td>Manchester City</td>\n",
       "      <td>1</td>\n",
       "      <td>26</td>\n",
       "      <td>150986355</td>\n",
       "      <td>38</td>\n",
       "      <td>32</td>\n",
       "      <td>2</td>\n",
       "      <td>4</td>\n",
       "      <td>95</td>\n",
       "      <td>23</td>\n",
       "      <td>72</td>\n",
       "      <td>...</td>\n",
       "      <td>-59.85</td>\n",
       "      <td>-146.46</td>\n",
       "      <td>-116.35</td>\n",
       "      <td>-1070.83</td>\n",
       "      <td>1</td>\n",
       "      <td>0</td>\n",
       "      <td>0</td>\n",
       "      <td>0</td>\n",
       "      <td>0</td>\n",
       "      <td>0</td>\n",
       "    </tr>\n",
       "    <tr>\n",
       "      <td>Liverpool</td>\n",
       "      <td>2</td>\n",
       "      <td>29</td>\n",
       "      <td>152425146</td>\n",
       "      <td>38</td>\n",
       "      <td>30</td>\n",
       "      <td>7</td>\n",
       "      <td>1</td>\n",
       "      <td>89</td>\n",
       "      <td>22</td>\n",
       "      <td>67</td>\n",
       "      <td>...</td>\n",
       "      <td>-47.84</td>\n",
       "      <td>-11.99</td>\n",
       "      <td>77.07</td>\n",
       "      <td>-666.55</td>\n",
       "      <td>1</td>\n",
       "      <td>0</td>\n",
       "      <td>0</td>\n",
       "      <td>0</td>\n",
       "      <td>0</td>\n",
       "      <td>0</td>\n",
       "    </tr>\n",
       "    <tr>\n",
       "      <td>Chelsea</td>\n",
       "      <td>3</td>\n",
       "      <td>25</td>\n",
       "      <td>146030216</td>\n",
       "      <td>38</td>\n",
       "      <td>21</td>\n",
       "      <td>9</td>\n",
       "      <td>8</td>\n",
       "      <td>63</td>\n",
       "      <td>39</td>\n",
       "      <td>24</td>\n",
       "      <td>...</td>\n",
       "      <td>33.80</td>\n",
       "      <td>-23.67</td>\n",
       "      <td>-8.60</td>\n",
       "      <td>-16.78</td>\n",
       "      <td>0</td>\n",
       "      <td>1</td>\n",
       "      <td>0</td>\n",
       "      <td>0</td>\n",
       "      <td>0</td>\n",
       "      <td>0</td>\n",
       "    </tr>\n",
       "    <tr>\n",
       "      <td>Tottenham</td>\n",
       "      <td>4</td>\n",
       "      <td>26</td>\n",
       "      <td>145230801</td>\n",
       "      <td>38</td>\n",
       "      <td>23</td>\n",
       "      <td>2</td>\n",
       "      <td>13</td>\n",
       "      <td>67</td>\n",
       "      <td>39</td>\n",
       "      <td>28</td>\n",
       "      <td>...</td>\n",
       "      <td>-43.63</td>\n",
       "      <td>3.98</td>\n",
       "      <td>5.05</td>\n",
       "      <td>-324.86</td>\n",
       "      <td>0</td>\n",
       "      <td>1</td>\n",
       "      <td>0</td>\n",
       "      <td>0</td>\n",
       "      <td>0</td>\n",
       "      <td>0</td>\n",
       "    </tr>\n",
       "    <tr>\n",
       "      <td>Arsenal</td>\n",
       "      <td>5</td>\n",
       "      <td>25</td>\n",
       "      <td>142193180</td>\n",
       "      <td>38</td>\n",
       "      <td>21</td>\n",
       "      <td>7</td>\n",
       "      <td>10</td>\n",
       "      <td>73</td>\n",
       "      <td>51</td>\n",
       "      <td>22</td>\n",
       "      <td>...</td>\n",
       "      <td>-64.05</td>\n",
       "      <td>-105.00</td>\n",
       "      <td>-26.20</td>\n",
       "      <td>-560.93</td>\n",
       "      <td>0</td>\n",
       "      <td>0</td>\n",
       "      <td>1</td>\n",
       "      <td>0</td>\n",
       "      <td>0</td>\n",
       "      <td>0</td>\n",
       "    </tr>\n",
       "  </tbody>\n",
       "</table>\n",
       "<p>5 rows × 59 columns</p>\n",
       "</div>"
      ],
      "text/plain": [
       "                 general_league_position  finance _live_games_televised  \\\n",
       "Team                                                                      \n",
       "Manchester City                        1                             26   \n",
       "Liverpool                              2                             29   \n",
       "Chelsea                                3                             25   \n",
       "Tottenham                              4                             26   \n",
       "Arsenal                                5                             25   \n",
       "\n",
       "                 finance _tv_revenue  general_matches_played  general_won  \\\n",
       "Team                                                                        \n",
       "Manchester City            150986355                      38           32   \n",
       "Liverpool                  152425146                      38           30   \n",
       "Chelsea                    146030216                      38           21   \n",
       "Tottenham                  145230801                      38           23   \n",
       "Arsenal                    142193180                      38           21   \n",
       "\n",
       "                 general_draw  general_lost  attack_scored  \\\n",
       "Team                                                         \n",
       "Manchester City             2             4             95   \n",
       "Liverpool                   7             1             89   \n",
       "Chelsea                     9             8             63   \n",
       "Tottenham                   2            13             67   \n",
       "Arsenal                     7            10             73   \n",
       "\n",
       "                 defence_goals_conceeded  general_goal_difference  ...  \\\n",
       "Team                                                               ...   \n",
       "Manchester City                       23                       72  ...   \n",
       "Liverpool                             22                       67  ...   \n",
       "Chelsea                               39                       24  ...   \n",
       "Tottenham                             39                       28  ...   \n",
       "Arsenal                               51                       22  ...   \n",
       "\n",
       "                 end_2012  end_2011  end_2010    Total  \\\n",
       "Team                                                     \n",
       "Manchester City    -59.85   -146.46   -116.35 -1070.83   \n",
       "Liverpool          -47.84    -11.99     77.07  -666.55   \n",
       "Chelsea             33.80    -23.67     -8.60   -16.78   \n",
       "Tottenham          -43.63      3.98      5.05  -324.86   \n",
       "Arsenal            -64.05   -105.00    -26.20  -560.93   \n",
       "\n",
       "                 category_Champions League  \\\n",
       "Team                                         \n",
       "Manchester City                          1   \n",
       "Liverpool                                1   \n",
       "Chelsea                                  0   \n",
       "Tottenham                                0   \n",
       "Arsenal                                  0   \n",
       "\n",
       "                 category_Champions League Qualification  \\\n",
       "Team                                                       \n",
       "Manchester City                                        0   \n",
       "Liverpool                                              0   \n",
       "Chelsea                                                1   \n",
       "Tottenham                                              1   \n",
       "Arsenal                                                0   \n",
       "\n",
       "                 category_Europa League  category_Europa League Qualification  \\\n",
       "Team                                                                            \n",
       "Manchester City                       0                                     0   \n",
       "Liverpool                             0                                     0   \n",
       "Chelsea                               0                                     0   \n",
       "Tottenham                             0                                     0   \n",
       "Arsenal                               1                                     0   \n",
       "\n",
       "                 category_No UEFA Competitions  category_Relegated  \n",
       "Team                                                                \n",
       "Manchester City                              0                   0  \n",
       "Liverpool                                    0                   0  \n",
       "Chelsea                                      0                   0  \n",
       "Tottenham                                    0                   0  \n",
       "Arsenal                                      0                   0  \n",
       "\n",
       "[5 rows x 59 columns]"
      ]
     },
     "execution_count": 473,
     "metadata": {},
     "output_type": "execute_result"
    }
   ],
   "source": [
    "df = pd.get_dummies(df, columns=[\"category\"]).set_index(\"Team\")\n",
    "df.head(5)"
   ]
  },
  {
   "cell_type": "markdown",
   "metadata": {},
   "source": [
    "# Normalização dos atributos"
   ]
  },
  {
   "cell_type": "code",
   "execution_count": 474,
   "metadata": {},
   "outputs": [],
   "source": [
    "from sklearn.preprocessing import StandardScaler, MinMaxScaler\n",
    "\n",
    "scaler = StandardScaler()\n",
    "\n",
    "df = pd.DataFrame(scaler.fit_transform(df_no_team),columns=df.columns.values, index=df.reset_index()[\"Team\"])"
   ]
  },
  {
   "cell_type": "code",
   "execution_count": 475,
   "metadata": {},
   "outputs": [
    {
     "data": {
      "text/html": [
       "<div>\n",
       "<style scoped>\n",
       "    .dataframe tbody tr th:only-of-type {\n",
       "        vertical-align: middle;\n",
       "    }\n",
       "\n",
       "    .dataframe tbody tr th {\n",
       "        vertical-align: top;\n",
       "    }\n",
       "\n",
       "    .dataframe thead th {\n",
       "        text-align: right;\n",
       "    }\n",
       "</style>\n",
       "<table border=\"1\" class=\"dataframe\">\n",
       "  <thead>\n",
       "    <tr style=\"text-align: right;\">\n",
       "      <th></th>\n",
       "      <th>general_league_position</th>\n",
       "      <th>finance _live_games_televised</th>\n",
       "      <th>finance _tv_revenue</th>\n",
       "      <th>general_matches_played</th>\n",
       "      <th>general_won</th>\n",
       "      <th>general_draw</th>\n",
       "      <th>general_lost</th>\n",
       "      <th>attack_scored</th>\n",
       "      <th>defence_goals_conceeded</th>\n",
       "      <th>general_goal_difference</th>\n",
       "      <th>...</th>\n",
       "      <th>end_2012</th>\n",
       "      <th>end_2011</th>\n",
       "      <th>end_2010</th>\n",
       "      <th>Total</th>\n",
       "      <th>category_Champions League</th>\n",
       "      <th>category_Champions League Qualification</th>\n",
       "      <th>category_Europa League</th>\n",
       "      <th>category_Europa League Qualification</th>\n",
       "      <th>category_No UEFA Competitions</th>\n",
       "      <th>category_Relegated</th>\n",
       "    </tr>\n",
       "    <tr>\n",
       "      <th>Team</th>\n",
       "      <th></th>\n",
       "      <th></th>\n",
       "      <th></th>\n",
       "      <th></th>\n",
       "      <th></th>\n",
       "      <th></th>\n",
       "      <th></th>\n",
       "      <th></th>\n",
       "      <th></th>\n",
       "      <th></th>\n",
       "      <th></th>\n",
       "      <th></th>\n",
       "      <th></th>\n",
       "      <th></th>\n",
       "      <th></th>\n",
       "      <th></th>\n",
       "      <th></th>\n",
       "      <th></th>\n",
       "      <th></th>\n",
       "      <th></th>\n",
       "      <th></th>\n",
       "    </tr>\n",
       "  </thead>\n",
       "  <tbody>\n",
       "    <tr>\n",
       "      <td>Manchester City</td>\n",
       "      <td>-1.647509</td>\n",
       "      <td>1.355819</td>\n",
       "      <td>1.587439</td>\n",
       "      <td>0.0</td>\n",
       "      <td>2.341753</td>\n",
       "      <td>-2.138031</td>\n",
       "      <td>-1.733109</td>\n",
       "      <td>2.350452</td>\n",
       "      <td>-1.992988</td>\n",
       "      <td>2.281980</td>\n",
       "      <td>...</td>\n",
       "      <td>-2.016336</td>\n",
       "      <td>-3.390784</td>\n",
       "      <td>-3.403626</td>\n",
       "      <td>-3.345767</td>\n",
       "      <td>3.0</td>\n",
       "      <td>-0.333333</td>\n",
       "      <td>-0.333333</td>\n",
       "      <td>-0.229416</td>\n",
       "      <td>-1.0</td>\n",
       "      <td>-0.420084</td>\n",
       "    </tr>\n",
       "    <tr>\n",
       "      <td>Liverpool</td>\n",
       "      <td>-1.474087</td>\n",
       "      <td>1.812837</td>\n",
       "      <td>1.668472</td>\n",
       "      <td>0.0</td>\n",
       "      <td>2.058762</td>\n",
       "      <td>-0.041922</td>\n",
       "      <td>-2.187198</td>\n",
       "      <td>2.009807</td>\n",
       "      <td>-2.058119</td>\n",
       "      <td>2.123509</td>\n",
       "      <td>...</td>\n",
       "      <td>-1.538152</td>\n",
       "      <td>0.065596</td>\n",
       "      <td>2.296763</td>\n",
       "      <td>-1.719834</td>\n",
       "      <td>3.0</td>\n",
       "      <td>-0.333333</td>\n",
       "      <td>-0.333333</td>\n",
       "      <td>-0.229416</td>\n",
       "      <td>-1.0</td>\n",
       "      <td>-0.420084</td>\n",
       "    </tr>\n",
       "  </tbody>\n",
       "</table>\n",
       "<p>2 rows × 59 columns</p>\n",
       "</div>"
      ],
      "text/plain": [
       "                 general_league_position  finance _live_games_televised  \\\n",
       "Team                                                                      \n",
       "Manchester City                -1.647509                       1.355819   \n",
       "Liverpool                      -1.474087                       1.812837   \n",
       "\n",
       "                 finance _tv_revenue  general_matches_played  general_won  \\\n",
       "Team                                                                        \n",
       "Manchester City             1.587439                     0.0     2.341753   \n",
       "Liverpool                   1.668472                     0.0     2.058762   \n",
       "\n",
       "                 general_draw  general_lost  attack_scored  \\\n",
       "Team                                                         \n",
       "Manchester City     -2.138031     -1.733109       2.350452   \n",
       "Liverpool           -0.041922     -2.187198       2.009807   \n",
       "\n",
       "                 defence_goals_conceeded  general_goal_difference  ...  \\\n",
       "Team                                                               ...   \n",
       "Manchester City                -1.992988                 2.281980  ...   \n",
       "Liverpool                      -2.058119                 2.123509  ...   \n",
       "\n",
       "                 end_2012  end_2011  end_2010     Total  \\\n",
       "Team                                                      \n",
       "Manchester City -2.016336 -3.390784 -3.403626 -3.345767   \n",
       "Liverpool       -1.538152  0.065596  2.296763 -1.719834   \n",
       "\n",
       "                 category_Champions League  \\\n",
       "Team                                         \n",
       "Manchester City                        3.0   \n",
       "Liverpool                              3.0   \n",
       "\n",
       "                 category_Champions League Qualification  \\\n",
       "Team                                                       \n",
       "Manchester City                                -0.333333   \n",
       "Liverpool                                      -0.333333   \n",
       "\n",
       "                 category_Europa League  category_Europa League Qualification  \\\n",
       "Team                                                                            \n",
       "Manchester City               -0.333333                             -0.229416   \n",
       "Liverpool                     -0.333333                             -0.229416   \n",
       "\n",
       "                 category_No UEFA Competitions  category_Relegated  \n",
       "Team                                                                \n",
       "Manchester City                           -1.0           -0.420084  \n",
       "Liverpool                                 -1.0           -0.420084  \n",
       "\n",
       "[2 rows x 59 columns]"
      ]
     },
     "execution_count": 475,
     "metadata": {},
     "output_type": "execute_result"
    }
   ],
   "source": [
    "df.head(2)"
   ]
  },
  {
   "cell_type": "markdown",
   "metadata": {},
   "source": [
    "# Redução de dimensionalidade \n",
    "\n",
    "Utilizaremos PCA ( Principal Component Analysis ) para redução de dimensionalidade "
   ]
  },
  {
   "cell_type": "code",
   "execution_count": 476,
   "metadata": {},
   "outputs": [
    {
     "data": {
      "text/plain": [
       "<matplotlib.axes._subplots.AxesSubplot at 0x7fc748b425c0>"
      ]
     },
     "execution_count": 476,
     "metadata": {},
     "output_type": "execute_result"
    },
    {
     "data": {
      "image/png": "[encoded data removed]",
      "text/plain": [
       "<Figure size 432x288 with 1 Axes>"
      ]
     },
     "metadata": {
      "needs_background": "light"
     },
     "output_type": "display_data"
    }
   ],
   "source": [
    "from sklearn.preprocessing import StandardScaler, MinMaxScaler\n",
    "\n",
    "pca = PCA(n_components=2)\n",
    "\n",
    "df_proj = pd.DataFrame(pca.fit_transform(df), index=df.reset_index()[\"Team\"])\n",
    "\n",
    "sns.scatterplot(x=df_proj[0], y=df_proj[1])"
   ]
  },
  {
   "cell_type": "markdown",
   "metadata": {
    "toc-hr-collapsed": false
   },
   "source": [
    "# Clusterização"
   ]
  },
  {
   "cell_type": "markdown",
   "metadata": {},
   "source": [
    "Será utilizada a metrica silhouette como indicador da qualidade dos agrupamentos"
   ]
  },
  {
   "cell_type": "markdown",
   "metadata": {},
   "source": [
    "## Metricas para diferentes numeros de cluster"
   ]
  },
  {
   "cell_type": "code",
   "execution_count": 732,
   "metadata": {},
   "outputs": [],
   "source": [
    "silhouette_values = []\n",
    "for i in range (2, 20):\n",
    "    kmeans = KMeans(n_clusters=i).fit(df_proj)\n",
    "    hierarquico = AgglomerativeClustering(n_clusters=i)\n",
    "\n",
    "\n",
    "    km_clustered = df_proj.assign(cluster_number=kmeans.predict(df_proj))\n",
    "    h_clustered = df_proj.assign(cluster_number=hierarquico.fit_predict(df_proj))\n",
    "\n",
    "  \n",
    "    silhouette_values.append({\n",
    "        \"n_clusters\": i,\n",
    "        \"silhouette_km\": sk.metrics.silhouette_score(km_clustered, labels=km_clustered[\"cluster_number\"]),\n",
    "        \"silhouette_h\": sk.metrics.silhouette_score(h_clustered, labels=h_clustered[\"cluster_number\"]),\n",
    "    })\n"
   ]
  },
  {
   "cell_type": "code",
   "execution_count": 733,
   "metadata": {},
   "outputs": [
    {
     "data": {
      "text/plain": [
       "<matplotlib.axes._subplots.AxesSubplot at 0x7fc7452e9278>"
      ]
     },
     "execution_count": 733,
     "metadata": {},
     "output_type": "execute_result"
    },
    {
     "data": {
      "image/png": "[encoded data removed]",
      "text/plain": [
       "<Figure size 1008x288 with 1 Axes>"
      ]
     },
     "metadata": {
      "needs_background": "light"
     },
     "output_type": "display_data"
    }
   ],
   "source": [
    "pd.DataFrame(silhouette_values).plot.line(x=\"n_clusters\", \n",
    "                                             y=[\"silhouette_km\", \"silhouette_h\"],\n",
    "                                             xticks=range(2,20),\n",
    "                                             figsize=[14,4])"
   ]
  },
  {
   "cell_type": "markdown",
   "metadata": {},
   "source": [
    "Kmeans atingiu melhor resultado com K=5 e hierarquico com K=6"
   ]
  },
  {
   "cell_type": "markdown",
   "metadata": {},
   "source": [
    "## Metricas para diferentes valores de max_iterations em K-Means"
   ]
  },
  {
   "cell_type": "code",
   "execution_count": 802,
   "metadata": {},
   "outputs": [],
   "source": [
    "silhouette_values = []\n",
    "for i in range (0, 101, 10):\n",
    "    kmeans = KMeans(n_clusters=5, max_iter=i if i > 0 else 1).fit(df_proj)\n",
    "\n",
    "    km_clustered = df_proj.assign(cluster_number=kmeans.predict(df_proj))\n",
    "\n",
    "    silhouette_values.append({\n",
    "        \"max_iter\": i,\n",
    "        \"silhouette_km\": sk.metrics.silhouette_score(km_clustered, labels=km_clustered[\"cluster_number\"]),\n",
    "    })"
   ]
  },
  {
   "cell_type": "code",
   "execution_count": 803,
   "metadata": {},
   "outputs": [
    {
     "data": {
      "text/plain": [
       "<matplotlib.axes._subplots.AxesSubplot at 0x7fc74504cda0>"
      ]
     },
     "execution_count": 803,
     "metadata": {},
     "output_type": "execute_result"
    },
    {
     "data": {
      "image/png": "[encoded data removed]",
      "text/plain": [
       "<Figure size 432x288 with 1 Axes>"
      ]
     },
     "metadata": {
      "needs_background": "light"
     },
     "output_type": "display_data"
    }
   ],
   "source": [
    "pd.DataFrame(silhouette_values).plot.line(x=\"max_iter\",\n",
    "                                          y=\"silhouette_km\",\n",
    "                                          xticks=range(0,101,10))"
   ]
  },
  {
   "cell_type": "markdown",
   "metadata": {},
   "source": [
    "A melhor metrica foi a associada a max_iter de 100, mas foi percebido que a cada nova amostragem o grafico parecia muito diferente"
   ]
  },
  {
   "cell_type": "markdown",
   "metadata": {},
   "source": [
    "## KMeans com n_clusters=5 e max_iter=100\n"
   ]
  },
  {
   "cell_type": "code",
   "execution_count": 814,
   "metadata": {},
   "outputs": [
    {
     "data": {
      "text/plain": [
       "0.5882883149238604"
      ]
     },
     "execution_count": 814,
     "metadata": {},
     "output_type": "execute_result"
    }
   ],
   "source": [
    "kmeans = KMeans(n_clusters=5, max_iter=100).fit(df_proj)\n",
    "\n",
    "km_clustered = df_proj.assign(cluster_number=kmeans.predict(df_proj))\n",
    "\n",
    "sk.metrics.silhouette_score(km_clustered, labels=km_clustered[\"cluster_number\"])"
   ]
  },
  {
   "cell_type": "markdown",
   "metadata": {},
   "source": [
    "# Metricas para diferentes linkages"
   ]
  },
  {
   "cell_type": "code",
   "execution_count": 819,
   "metadata": {},
   "outputs": [],
   "source": [
    "silhouette_values = []\n",
    "for i in [\"ward\", \"complete\", \"average\", \"single\"]:\n",
    "    hierarquico = AgglomerativeClustering(n_clusters=5, linkage=i)\n",
    "\n",
    "    km_clustered = df_proj.assign(cluster_number=hierarquico.fit_predict(df_proj))\n",
    "\n",
    "    silhouette_values.append({\n",
    "        \"linkage\": i,\n",
    "        \"silhouette_km\": sk.metrics.silhouette_score(km_clustered, labels=km_clustered[\"cluster_number\"]),\n",
    "    })"
   ]
  },
  {
   "cell_type": "code",
   "execution_count": 820,
   "metadata": {},
   "outputs": [
    {
     "data": {
      "text/plain": [
       "<matplotlib.axes._subplots.AxesSubplot at 0x7fc744f70668>"
      ]
     },
     "execution_count": 820,
     "metadata": {},
     "output_type": "execute_result"
    },
    {
     "data": {
      "image/png": "[encoded data removed]",
      "text/plain": [
       "<Figure size 432x288 with 1 Axes>"
      ]
     },
     "metadata": {
      "needs_background": "light"
     },
     "output_type": "display_data"
    }
   ],
   "source": [
    "pd.DataFrame(silhouette_values).plot.bar(x=\"linkage\", y=\"silhouette_km\")"
   ]
  },
  {
   "cell_type": "markdown",
   "metadata": {},
   "source": [
    "A melhor linkage foi `ward`"
   ]
  },
  {
   "cell_type": "markdown",
   "metadata": {},
   "source": [
    "# Comparando os melhores resultados para os dois algoritmos"
   ]
  },
  {
   "cell_type": "code",
   "execution_count": 859,
   "metadata": {},
   "outputs": [
    {
     "name": "stdout",
     "output_type": "stream",
     "text": [
      "Silhouette:  0.5566053306880632\n"
     ]
    },
    {
     "data": {
      "image/png": "[encoded data removed]",
      "text/plain": [
       "<Figure size 432x288 with 1 Axes>"
      ]
     },
     "metadata": {
      "needs_background": "light"
     },
     "output_type": "display_data"
    }
   ],
   "source": [
    "kmeans = KMeans(n_clusters=5, max_iter=100).fit(df_proj)\n",
    "\n",
    "km_clustered = df_proj.assign(cluster_number=kmeans.predict(df_proj))\n",
    "\n",
    "sns.scatterplot(x=km_clustered[0], y=km_clustered[1], hue=km_clustered[\"cluster_number\"], legend=\"full\")\n",
    "print(\"Silhouette: \", sk.metrics.silhouette_score(km_clustered, labels=km_clustered[\"cluster_number\"]))"
   ]
  },
  {
   "cell_type": "code",
   "execution_count": 858,
   "metadata": {},
   "outputs": [
    {
     "name": "stdout",
     "output_type": "stream",
     "text": [
      "Silhouette:  0.5623364818261255\n"
     ]
    },
    {
     "data": {
      "image/png": "[encoded data removed]",
      "text/plain": [
       "<Figure size 432x288 with 1 Axes>"
      ]
     },
     "metadata": {
      "needs_background": "light"
     },
     "output_type": "display_data"
    }
   ],
   "source": [
    "hierarquico = AgglomerativeClustering(n_clusters=6, linkage=\"ward\")\n",
    "h_clustered =  df_proj.assign(cluster_number=hierarquico.fit_predict(df_proj))\n",
    "sns.scatterplot(x=h_clustered[0], y=h_clustered[1], hue=h_clustered[\"cluster_number\"], legend=\"full\")\n",
    "print(\"Silhouette: \", sk.metrics.silhouette_score(h_clustered, labels=h_clustered[\"cluster_number\"]))"
   ]
  },
  {
   "cell_type": "code",
   "execution_count": 860,
   "metadata": {},
   "outputs": [
    {
     "data": {
      "text/html": [
       "<div>\n",
       "<style scoped>\n",
       "    .dataframe tbody tr th:only-of-type {\n",
       "        vertical-align: middle;\n",
       "    }\n",
       "\n",
       "    .dataframe tbody tr th {\n",
       "        vertical-align: top;\n",
       "    }\n",
       "\n",
       "    .dataframe thead th {\n",
       "        text-align: right;\n",
       "    }\n",
       "</style>\n",
       "<table border=\"1\" class=\"dataframe\">\n",
       "  <thead>\n",
       "    <tr style=\"text-align: right;\">\n",
       "      <th></th>\n",
       "      <th>silhouette</th>\n",
       "    </tr>\n",
       "  </thead>\n",
       "  <tbody>\n",
       "    <tr>\n",
       "      <td>K-Means</td>\n",
       "      <td>0.556605</td>\n",
       "    </tr>\n",
       "    <tr>\n",
       "      <td>Hierarquico</td>\n",
       "      <td>0.562336</td>\n",
       "    </tr>\n",
       "  </tbody>\n",
       "</table>\n",
       "</div>"
      ],
      "text/plain": [
       "             silhouette\n",
       "K-Means        0.556605\n",
       "Hierarquico    0.562336"
      ]
     },
     "execution_count": 860,
     "metadata": {},
     "output_type": "execute_result"
    }
   ],
   "source": [
    "pd.DataFrame([sk.metrics.silhouette_score(km_clustered, labels=km_clustered[\"cluster_number\"]),\n",
    "sk.metrics.silhouette_score(h_clustered, \n",
    "                            labels=h_clustered[\"cluster_number\"])],\n",
    "                            index=[\"K-Means\", \"Hierarquico\"],\n",
    "                            columns=[\"silhouette\"])"
   ]
  },
  {
   "cell_type": "markdown",
   "metadata": {},
   "source": [
    "## Analisando os grupos"
   ]
  },
  {
   "cell_type": "code",
   "execution_count": 874,
   "metadata": {},
   "outputs": [
    {
     "data": {
      "text/html": [
       "<div>\n",
       "<style scoped>\n",
       "    .dataframe tbody tr th:only-of-type {\n",
       "        vertical-align: middle;\n",
       "    }\n",
       "\n",
       "    .dataframe tbody tr th {\n",
       "        vertical-align: top;\n",
       "    }\n",
       "\n",
       "    .dataframe thead th {\n",
       "        text-align: right;\n",
       "    }\n",
       "</style>\n",
       "<table border=\"1\" class=\"dataframe\">\n",
       "  <thead>\n",
       "    <tr style=\"text-align: right;\">\n",
       "      <th></th>\n",
       "      <th>general_league_position</th>\n",
       "      <th>finance _live_games_televised</th>\n",
       "      <th>finance _tv_revenue</th>\n",
       "      <th>general_matches_played</th>\n",
       "      <th>general_won</th>\n",
       "      <th>general_draw</th>\n",
       "      <th>general_lost</th>\n",
       "      <th>attack_scored</th>\n",
       "      <th>defence_goals_conceeded</th>\n",
       "      <th>general_goal_difference</th>\n",
       "      <th>...</th>\n",
       "      <th>end_2012</th>\n",
       "      <th>end_2011</th>\n",
       "      <th>end_2010</th>\n",
       "      <th>Total</th>\n",
       "      <th>category_Champions League</th>\n",
       "      <th>category_Champions League Qualification</th>\n",
       "      <th>category_Europa League</th>\n",
       "      <th>category_Europa League Qualification</th>\n",
       "      <th>category_No UEFA Competitions</th>\n",
       "      <th>category_Relegated</th>\n",
       "    </tr>\n",
       "    <tr>\n",
       "      <th>cluster_number</th>\n",
       "      <th></th>\n",
       "      <th></th>\n",
       "      <th></th>\n",
       "      <th></th>\n",
       "      <th></th>\n",
       "      <th></th>\n",
       "      <th></th>\n",
       "      <th></th>\n",
       "      <th></th>\n",
       "      <th></th>\n",
       "      <th></th>\n",
       "      <th></th>\n",
       "      <th></th>\n",
       "      <th></th>\n",
       "      <th></th>\n",
       "      <th></th>\n",
       "      <th></th>\n",
       "      <th></th>\n",
       "      <th></th>\n",
       "      <th></th>\n",
       "      <th></th>\n",
       "    </tr>\n",
       "  </thead>\n",
       "  <tbody>\n",
       "    <tr>\n",
       "      <td>0</td>\n",
       "      <td>0.180451</td>\n",
       "      <td>0.271442</td>\n",
       "      <td>0.160296</td>\n",
       "      <td>0.0</td>\n",
       "      <td>0.032892</td>\n",
       "      <td>0.238514</td>\n",
       "      <td>0.078551</td>\n",
       "      <td>0.060725</td>\n",
       "      <td>0.288984</td>\n",
       "      <td>0.045634</td>\n",
       "      <td>...</td>\n",
       "      <td>0.187910</td>\n",
       "      <td>0.082263</td>\n",
       "      <td>0.107669</td>\n",
       "      <td>0.051719</td>\n",
       "      <td>0.0</td>\n",
       "      <td>0.000000</td>\n",
       "      <td>0.000000</td>\n",
       "      <td>2.631579</td>\n",
       "      <td>0.5</td>\n",
       "      <td>0.0</td>\n",
       "    </tr>\n",
       "    <tr>\n",
       "      <td>1</td>\n",
       "      <td>0.030075</td>\n",
       "      <td>0.054150</td>\n",
       "      <td>0.034565</td>\n",
       "      <td>0.0</td>\n",
       "      <td>0.246926</td>\n",
       "      <td>0.410076</td>\n",
       "      <td>0.091643</td>\n",
       "      <td>0.154719</td>\n",
       "      <td>0.154125</td>\n",
       "      <td>0.092751</td>\n",
       "      <td>...</td>\n",
       "      <td>0.044792</td>\n",
       "      <td>0.048029</td>\n",
       "      <td>0.067627</td>\n",
       "      <td>0.016700</td>\n",
       "      <td>0.0</td>\n",
       "      <td>0.000000</td>\n",
       "      <td>0.000000</td>\n",
       "      <td>0.000000</td>\n",
       "      <td>0.0</td>\n",
       "      <td>0.0</td>\n",
       "    </tr>\n",
       "    <tr>\n",
       "      <td>2</td>\n",
       "      <td>0.050125</td>\n",
       "      <td>0.021273</td>\n",
       "      <td>0.011750</td>\n",
       "      <td>0.0</td>\n",
       "      <td>0.053389</td>\n",
       "      <td>1.918571</td>\n",
       "      <td>0.097371</td>\n",
       "      <td>0.060168</td>\n",
       "      <td>0.264062</td>\n",
       "      <td>0.053156</td>\n",
       "      <td>...</td>\n",
       "      <td>3.371712</td>\n",
       "      <td>1.544553</td>\n",
       "      <td>0.593971</td>\n",
       "      <td>0.804368</td>\n",
       "      <td>0.0</td>\n",
       "      <td>3.703704</td>\n",
       "      <td>3.703704</td>\n",
       "      <td>0.000000</td>\n",
       "      <td>0.0</td>\n",
       "      <td>0.0</td>\n",
       "    </tr>\n",
       "    <tr>\n",
       "      <td>3</td>\n",
       "      <td>NaN</td>\n",
       "      <td>NaN</td>\n",
       "      <td>NaN</td>\n",
       "      <td>NaN</td>\n",
       "      <td>NaN</td>\n",
       "      <td>NaN</td>\n",
       "      <td>NaN</td>\n",
       "      <td>NaN</td>\n",
       "      <td>NaN</td>\n",
       "      <td>NaN</td>\n",
       "      <td>...</td>\n",
       "      <td>NaN</td>\n",
       "      <td>NaN</td>\n",
       "      <td>NaN</td>\n",
       "      <td>NaN</td>\n",
       "      <td>NaN</td>\n",
       "      <td>NaN</td>\n",
       "      <td>NaN</td>\n",
       "      <td>NaN</td>\n",
       "      <td>NaN</td>\n",
       "      <td>NaN</td>\n",
       "    </tr>\n",
       "    <tr>\n",
       "      <td>4</td>\n",
       "      <td>0.030075</td>\n",
       "      <td>0.054150</td>\n",
       "      <td>0.007324</td>\n",
       "      <td>0.0</td>\n",
       "      <td>0.026695</td>\n",
       "      <td>1.113064</td>\n",
       "      <td>0.068732</td>\n",
       "      <td>0.107444</td>\n",
       "      <td>0.069285</td>\n",
       "      <td>0.006362</td>\n",
       "      <td>...</td>\n",
       "      <td>0.066613</td>\n",
       "      <td>0.001708</td>\n",
       "      <td>0.003577</td>\n",
       "      <td>0.058038</td>\n",
       "      <td>0.0</td>\n",
       "      <td>0.000000</td>\n",
       "      <td>0.000000</td>\n",
       "      <td>0.000000</td>\n",
       "      <td>0.0</td>\n",
       "      <td>0.0</td>\n",
       "    </tr>\n",
       "    <tr>\n",
       "      <td>5</td>\n",
       "      <td>NaN</td>\n",
       "      <td>NaN</td>\n",
       "      <td>NaN</td>\n",
       "      <td>NaN</td>\n",
       "      <td>NaN</td>\n",
       "      <td>NaN</td>\n",
       "      <td>NaN</td>\n",
       "      <td>NaN</td>\n",
       "      <td>NaN</td>\n",
       "      <td>NaN</td>\n",
       "      <td>...</td>\n",
       "      <td>NaN</td>\n",
       "      <td>NaN</td>\n",
       "      <td>NaN</td>\n",
       "      <td>NaN</td>\n",
       "      <td>NaN</td>\n",
       "      <td>NaN</td>\n",
       "      <td>NaN</td>\n",
       "      <td>NaN</td>\n",
       "      <td>NaN</td>\n",
       "      <td>NaN</td>\n",
       "    </tr>\n",
       "  </tbody>\n",
       "</table>\n",
       "<p>6 rows × 59 columns</p>\n",
       "</div>"
      ],
      "text/plain": [
       "                general_league_position  finance _live_games_televised  \\\n",
       "cluster_number                                                           \n",
       "0                              0.180451                       0.271442   \n",
       "1                              0.030075                       0.054150   \n",
       "2                              0.050125                       0.021273   \n",
       "3                                   NaN                            NaN   \n",
       "4                              0.030075                       0.054150   \n",
       "5                                   NaN                            NaN   \n",
       "\n",
       "                finance _tv_revenue  general_matches_played  general_won  \\\n",
       "cluster_number                                                             \n",
       "0                          0.160296                     0.0     0.032892   \n",
       "1                          0.034565                     0.0     0.246926   \n",
       "2                          0.011750                     0.0     0.053389   \n",
       "3                               NaN                     NaN          NaN   \n",
       "4                          0.007324                     0.0     0.026695   \n",
       "5                               NaN                     NaN          NaN   \n",
       "\n",
       "                general_draw  general_lost  attack_scored  \\\n",
       "cluster_number                                              \n",
       "0                   0.238514      0.078551       0.060725   \n",
       "1                   0.410076      0.091643       0.154719   \n",
       "2                   1.918571      0.097371       0.060168   \n",
       "3                        NaN           NaN            NaN   \n",
       "4                   1.113064      0.068732       0.107444   \n",
       "5                        NaN           NaN            NaN   \n",
       "\n",
       "                defence_goals_conceeded  general_goal_difference  ...  \\\n",
       "cluster_number                                                    ...   \n",
       "0                              0.288984                 0.045634  ...   \n",
       "1                              0.154125                 0.092751  ...   \n",
       "2                              0.264062                 0.053156  ...   \n",
       "3                                   NaN                      NaN  ...   \n",
       "4                              0.069285                 0.006362  ...   \n",
       "5                                   NaN                      NaN  ...   \n",
       "\n",
       "                end_2012  end_2011  end_2010     Total  \\\n",
       "cluster_number                                           \n",
       "0               0.187910  0.082263  0.107669  0.051719   \n",
       "1               0.044792  0.048029  0.067627  0.016700   \n",
       "2               3.371712  1.544553  0.593971  0.804368   \n",
       "3                    NaN       NaN       NaN       NaN   \n",
       "4               0.066613  0.001708  0.003577  0.058038   \n",
       "5                    NaN       NaN       NaN       NaN   \n",
       "\n",
       "                category_Champions League  \\\n",
       "cluster_number                              \n",
       "0                                     0.0   \n",
       "1                                     0.0   \n",
       "2                                     0.0   \n",
       "3                                     NaN   \n",
       "4                                     0.0   \n",
       "5                                     NaN   \n",
       "\n",
       "                category_Champions League Qualification  \\\n",
       "cluster_number                                            \n",
       "0                                              0.000000   \n",
       "1                                              0.000000   \n",
       "2                                              3.703704   \n",
       "3                                                   NaN   \n",
       "4                                              0.000000   \n",
       "5                                                   NaN   \n",
       "\n",
       "                category_Europa League  category_Europa League Qualification  \\\n",
       "cluster_number                                                                 \n",
       "0                             0.000000                              2.631579   \n",
       "1                             0.000000                              0.000000   \n",
       "2                             3.703704                              0.000000   \n",
       "3                                  NaN                                   NaN   \n",
       "4                             0.000000                              0.000000   \n",
       "5                                  NaN                                   NaN   \n",
       "\n",
       "                category_No UEFA Competitions  category_Relegated  \n",
       "cluster_number                                                     \n",
       "0                                         0.5                 0.0  \n",
       "1                                         0.0                 0.0  \n",
       "2                                         0.0                 0.0  \n",
       "3                                         NaN                 NaN  \n",
       "4                                         0.0                 0.0  \n",
       "5                                         NaN                 NaN  \n",
       "\n",
       "[6 rows x 59 columns]"
      ]
     },
     "execution_count": 874,
     "metadata": {},
     "output_type": "execute_result"
    }
   ],
   "source": [
    "df.assign(cluster_number= h_clustered[\"cluster_number\"]).groupby(\"cluster_number\").var()"
   ]
  }
 ],
 "metadata": {
  "kernelspec": {
   "display_name": "Python 3",
   "language": "python",
   "name": "python3"
  },
  "language_info": {
   "codemirror_mode": {
    "name": "ipython",
    "version": 3
   },
   "file_extension": ".py",
   "mimetype": "text/x-python",
   "name": "python",
   "nbconvert_exporter": "python",
   "pygments_lexer": "ipython3",
   "version": "3.6.8"
  }
 },
 "nbformat": 4,
 "nbformat_minor": 4
}
